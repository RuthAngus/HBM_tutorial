{
 "cells": [
  {
   "cell_type": "markdown",
   "metadata": {},
   "source": [
    "# Mixture model example."
   ]
  },
  {
   "cell_type": "code",
   "execution_count": 1,
   "metadata": {},
   "outputs": [],
   "source": [
    "%matplotlib inline"
   ]
  },
  {
   "cell_type": "code",
   "execution_count": 2,
   "metadata": {},
   "outputs": [],
   "source": [
    "import numpy as np\n",
    "import pandas as pd\n",
    "import matplotlib.pyplot as plt\n",
    "import scipy.optimize as sco"
   ]
  },
  {
   "cell_type": "code",
   "execution_count": 6,
   "metadata": {},
   "outputs": [],
   "source": [
    "# Polynomial model\n",
    "def line(theta, x):\n",
    "    return np.polyval(theta, x)\n",
    "\n",
    "def lnlike(pars, x, y, yerr):\n",
    "    Y, V, P, slope, intercept = pars\n",
    "    theta = [slope, intercept]\n",
    "    \n",
    "    model1 = line(theta, x)\n",
    "    model2 = Y\n",
    "    ivar1 = 1./(yerr**2)\n",
    "    ivar2 = 1./(V + yerr**2)\n",
    "    lnlike1 =  - 0.5 * ((y-model1)**2*ivar1)\n",
    "    lnlike2 =  - 0.5 * ((y-model2)**2*ivar2 - np.log(np.sqrt(ivar2)))\n",
    "    ll = np.sum(np.logaddexp(np.log(1-P) + lnlike1, np.log(P) + lnlike2))\n",
    "\n",
    "    # Uniform priors over P and variances\n",
    "    if P > 0 and P < 1 and V > 0:\n",
    "        return ll\n",
    "    else:\n",
    "        return -np.inf"
   ]
  },
  {
   "cell_type": "markdown",
   "metadata": {},
   "source": [
    "Simulate some data."
   ]
  },
  {
   "cell_type": "code",
   "execution_count": 7,
   "metadata": {},
   "outputs": [
    {
     "data": {
      "image/png": "[encoded data removed]",
      "text/plain": [
       "<Figure size 432x288 with 1 Axes>"
      ]
     },
     "metadata": {
      "needs_background": "light"
     },
     "output_type": "display_data"
    }
   ],
   "source": [
    "np.random.seed(42)\n",
    "\n",
    "# Parameters\n",
    "V = 2**2  # The variance of the outlier population\n",
    "Y = 2  # The mean of the outlier Gaussian distribution\n",
    "P = .15  # The probability that a star is an outlier (15% of stars will be outliers).\n",
    "slope = .5  # Line parameter\n",
    "intercept = 0.  # Line parameter\n",
    "\n",
    "nstars = 200\n",
    "x = np.random.uniform(0, 10, nstars)\n",
    "y_uncert = .1\n",
    "y = intercept + slope * x + np.random.randn(nstars)*y_uncert\n",
    "yerr = np.ones_like(y)*y_uncert\n",
    "\n",
    "# Add outliers.\n",
    "nout = int(nstars * P)\n",
    "outliers = np.random.choice(np.arange(nstars), size=nout)\n",
    "y[outliers] = np.random.randn(nout)*np.sqrt(V) + Y\n",
    "\n",
    "xs = np.linspace(0, 10, 100)\n",
    "plt.plot(xs, intercept + slope*xs)\n",
    "plt.axhline(Y, color=\"C1\")\n",
    "plt.fill_between(xs, Y - np.sqrt(V), Y + np.sqrt(V), alpha=.2, color=\"C1\")\n",
    "plt.errorbar(x, y, yerr=yerr, fmt=\"k.\");\n",
    "plt.xlabel(\"x\")\n",
    "plt.ylabel(\"y\");"
   ]
  },
  {
   "cell_type": "markdown",
   "metadata": {},
   "source": [
    "Test the likelihood function."
   ]
  },
  {
   "cell_type": "code",
   "execution_count": 8,
   "metadata": {},
   "outputs": [
    {
     "name": "stdout",
     "output_type": "stream",
     "text": [
      "-150.38688879464635\n"
     ]
    }
   ],
   "source": [
    "p_true = [Y, V, P, slope, intercept]\n",
    "print(lnlike(p_true, x, y, yerr))"
   ]
  },
  {
   "cell_type": "markdown",
   "metadata": {},
   "source": [
    "Optimize the model."
   ]
  },
  {
   "cell_type": "code",
   "execution_count": 9,
   "metadata": {},
   "outputs": [
    {
     "name": "stdout",
     "output_type": "stream",
     "text": [
      "-450.8723236497227\n",
      "[ 2.07600245e+00  5.03943111e+00  6.31049597e-01  5.01141131e-01\n",
      " -2.08063826e-03]\n"
     ]
    },
    {
     "name": "stderr",
     "output_type": "stream",
     "text": [
      "/Users/rangus/Applications/anaconda3/lib/python3.7/site-packages/ipykernel_launcher.py:15: RuntimeWarning: invalid value encountered in log\n",
      "  from ipykernel import kernelapp as app\n",
      "/Users/rangus/Applications/anaconda3/lib/python3.7/site-packages/ipykernel_launcher.py:15: RuntimeWarning: invalid value encountered in log\n",
      "  from ipykernel import kernelapp as app\n",
      "/Users/rangus/Applications/anaconda3/lib/python3.7/site-packages/ipykernel_launcher.py:15: RuntimeWarning: invalid value encountered in log\n",
      "  from ipykernel import kernelapp as app\n",
      "/Users/rangus/Applications/anaconda3/lib/python3.7/site-packages/ipykernel_launcher.py:15: RuntimeWarning: invalid value encountered in log\n",
      "  from ipykernel import kernelapp as app\n"
     ]
    }
   ],
   "source": [
    "p_init = p_true + np.random.randn(len(p_true))*.1\n",
    "\n",
    "# Calculate maximum-likelihood values\n",
    "nll = lambda *args: -lnlike(*args)\n",
    "print(lnlike(p_init, x, y, yerr))\n",
    "result = sco.minimize(nll, p_init, args=(x, y, yerr))\n",
    "print(result.x)"
   ]
  },
  {
   "cell_type": "code",
   "execution_count": 11,
   "metadata": {},
   "outputs": [
    {
     "data": {
      "image/png": "[encoded data removed]",
      "text/plain": [
       "<Figure size 432x288 with 1 Axes>"
      ]
     },
     "metadata": {
      "needs_background": "light"
     },
     "output_type": "display_data"
    }
   ],
   "source": [
    "xs = np.linspace(0, 10, 100)\n",
    "plt.plot(xs, result.x[4] + result.x[3]*xs)\n",
    "plt.axhline(result.x[0], color=\"C1\")\n",
    "plt.fill_between(xs, result.x[0] - np.sqrt(result.x[1]), result.x[0] + np.sqrt(result.x[1]), alpha=.2, color=\"C1\")\n",
    "plt.errorbar(x, y, yerr=yerr, fmt=\"k.\");\n",
    "plt.xlabel(\"x\")\n",
    "plt.ylabel(\"y\");"
   ]
  },
  {
   "cell_type": "code",
   "execution_count": null,
   "metadata": {},
   "outputs": [],
   "source": []
  }
 ],
 "metadata": {
  "kernelspec": {
   "display_name": "Python 3",
   "language": "python",
   "name": "python3"
  },
  "language_info": {
   "codemirror_mode": {
    "name": "ipython",
    "version": 3
   },
   "file_extension": ".py",
   "mimetype": "text/x-python",
   "name": "python",
   "nbconvert_exporter": "python",
   "pygments_lexer": "ipython3",
   "version": "3.7.6"
  }
 },
 "nbformat": 4,
 "nbformat_minor": 4
}
