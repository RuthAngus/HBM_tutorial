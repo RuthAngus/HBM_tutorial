{
 "cells": [
  {
   "cell_type": "markdown",
   "metadata": {},
   "source": [
    "# Inferring distances with Gaia data."
   ]
  },
  {
   "cell_type": "markdown",
   "metadata": {},
   "source": [
    "Your goal is to infer the distances to stars using Gaia parallaxes. Inverting the parallax will give you an inaccurate distance when the parallax uncertainty is large, so it is better to infer distance. There are two ways you could do this: 1) infer the distance using a sensible prior, as used in [Bailer-Jones et al. (2019)](https://arxiv.org/pdf/1804.10121.pdf), OR infer the prior using HBM.\n",
    "\n",
    "We're going to do both.\n",
    "\n",
    "First, lets open the data file, \"parallaxes.csv\"."
   ]
  },
  {
   "cell_type": "code",
   "execution_count": 11,
   "metadata": {},
   "outputs": [
    {
     "data": {
      "text/html": [
       "<div>\n",
       "<style scoped>\n",
       "    .dataframe tbody tr th:only-of-type {\n",
       "        vertical-align: middle;\n",
       "    }\n",
       "\n",
       "    .dataframe tbody tr th {\n",
       "        vertical-align: top;\n",
       "    }\n",
       "\n",
       "    .dataframe thead th {\n",
       "        text-align: right;\n",
       "    }\n",
       "</style>\n",
       "<table border=\"1\" class=\"dataframe\">\n",
       "  <thead>\n",
       "    <tr style=\"text-align: right;\">\n",
       "      <th></th>\n",
       "      <th>Unnamed: 0</th>\n",
       "      <th>parallax_mas</th>\n",
       "      <th>parallax_error</th>\n",
       "      <th>true_distance_kpc</th>\n",
       "    </tr>\n",
       "  </thead>\n",
       "  <tbody>\n",
       "    <tr>\n",
       "      <th>0</th>\n",
       "      <td>0</td>\n",
       "      <td>1.659340</td>\n",
       "      <td>0.033511</td>\n",
       "      <td>0.591963</td>\n",
       "    </tr>\n",
       "    <tr>\n",
       "      <th>1</th>\n",
       "      <td>1</td>\n",
       "      <td>0.403474</td>\n",
       "      <td>0.009070</td>\n",
       "      <td>2.457926</td>\n",
       "    </tr>\n",
       "    <tr>\n",
       "      <th>2</th>\n",
       "      <td>2</td>\n",
       "      <td>0.530348</td>\n",
       "      <td>0.049655</td>\n",
       "      <td>1.920681</td>\n",
       "    </tr>\n",
       "    <tr>\n",
       "      <th>3</th>\n",
       "      <td>3</td>\n",
       "      <td>1.059067</td>\n",
       "      <td>0.040121</td>\n",
       "      <td>0.901326</td>\n",
       "    </tr>\n",
       "    <tr>\n",
       "      <th>4</th>\n",
       "      <td>4</td>\n",
       "      <td>1.046482</td>\n",
       "      <td>0.033909</td>\n",
       "      <td>0.949794</td>\n",
       "    </tr>\n",
       "  </tbody>\n",
       "</table>\n",
       "</div>"
      ],
      "text/plain": [
       "   Unnamed: 0  parallax_mas  parallax_error  true_distance_kpc\n",
       "0           0      1.659340        0.033511           0.591963\n",
       "1           1      0.403474        0.009070           2.457926\n",
       "2           2      0.530348        0.049655           1.920681\n",
       "3           3      1.059067        0.040121           0.901326\n",
       "4           4      1.046482        0.033909           0.949794"
      ]
     },
     "execution_count": 11,
     "metadata": {},
     "output_type": "execute_result"
    }
   ],
   "source": [
    "import pandas as pd\n",
    "df = pd.read_csv(\"parallaxes.csv\")\n",
    "df.head()"
   ]
  },
  {
   "cell_type": "markdown",
   "metadata": {},
   "source": [
    "Plot a histogram of parallaxes."
   ]
  },
  {
   "cell_type": "code",
   "execution_count": 18,
   "metadata": {},
   "outputs": [
    {
     "data": {
      "image/png": "[encoded data removed]",
      "text/plain": [
       "<Figure size 432x288 with 1 Axes>"
      ]
     },
     "metadata": {
      "needs_background": "light"
     },
     "output_type": "display_data"
    }
   ],
   "source": [
    "import matplotlib.pyplot as plt\n",
    "%matplotlib inline\n",
    "\n",
    "plt.hist(df.true_distance_kpc, 50, alpha=.5);\n",
    "plt.hist(1./df.parallax_mas, 50, alpha=.5);"
   ]
  },
  {
   "cell_type": "markdown",
   "metadata": {},
   "source": [
    "We could just calculate the distances using 1/parallax. \n",
    "\n",
    "*Plot true distance against 1./parallax.*"
   ]
  },
  {
   "cell_type": "code",
   "execution_count": 25,
   "metadata": {},
   "outputs": [
    {
     "data": {
      "text/plain": [
       "[<matplotlib.lines.Line2D at 0x122334f28>]"
      ]
     },
     "execution_count": 25,
     "metadata": {},
     "output_type": "execute_result"
    },
    {
     "data": {
      "image/png": "[encoded data removed]",
      "text/plain": [
       "<Figure size 432x288 with 1 Axes>"
      ]
     },
     "metadata": {
      "needs_background": "light"
     },
     "output_type": "display_data"
    }
   ],
   "source": [
    "import numpy as np\n",
    "\n",
    "rel_err = df.parallax_error/df.parallax_mas\n",
    "plt.errorbar(df.true_distance_kpc, 1./df.parallax_mas, yerr=rel_err, fmt=\".\", alpha=.2)\n",
    "x = np.linspace(min(df.true_distance_kpc), max(df.true_distance_kpc), 100)\n",
    "plt.plot(x, x, zorder=10)"
   ]
  },
  {
   "cell_type": "markdown",
   "metadata": {},
   "source": [
    "Let's first try to infer distances using the Bailer-Jones prior.\n",
    "\n",
    "*Define a function for the Bailer-Jones prior*"
   ]
  },
  {
   "cell_type": "code",
   "execution_count": 28,
   "metadata": {},
   "outputs": [],
   "source": [
    "def bj_prior(r, L):\n",
    "    \"r is distance in pc, L is a length-scale parameter that varies across the MW.\"\n",
    "    return 1./(2*L**3) * r**2 * np.exp(-r/L)\n",
    "\n",
    "def log_bj_prior(D, L):\n",
    "    \"D is distance in kpc, L is a length-scale parameter that varies across the MW.\"\n",
    "    r = D*1e3\n",
    "    return - np.log(2) - 3*np.log(L) - 2*r/L * np.log(r)"
   ]
  },
  {
   "cell_type": "markdown",
   "metadata": {},
   "source": [
    "*Draw the non-hierarchical and hierarchical PGMs for this problem. In the hierarchical version, L will be a free parameter.*\n",
    "\n",
    "*Using PyMC3, infer the distance to each star with the non-hierarchical model.*"
   ]
  },
  {
   "cell_type": "code",
   "execution_count": null,
   "metadata": {},
   "outputs": [],
   "source": [
    "import pymc3 as pm\n",
    "\n",
    "simple_model = pm.Model()\n",
    "\n",
    "L = 500\n",
    "\n",
    "with simple_model:\n",
    "        \n",
    "    # Prior over distance as a pymc3 potential object\n",
    "    D = pm.Uniform(\"D\", lower=0, upper=10000)\n",
    "    pm.Potential(\"lnprior\", log_bj_prior(D, L))\n",
    "    \n",
    "    # The model\n",
    "    mu = 1./D\n",
    "\n",
    "    # Likelihood\n",
    "    parallax_obs = pm.Normal(\"parallax_obs\", mu=mu, sigma=parallax_error, observed=parallax_mas)"
   ]
  },
  {
   "cell_type": "code",
   "execution_count": null,
   "metadata": {},
   "outputs": [],
   "source": []
  },
  {
   "cell_type": "code",
   "execution_count": null,
   "metadata": {},
   "outputs": [],
   "source": []
  },
  {
   "cell_type": "code",
   "execution_count": null,
   "metadata": {},
   "outputs": [],
   "source": []
  },
  {
   "cell_type": "code",
   "execution_count": null,
   "metadata": {},
   "outputs": [],
   "source": []
  },
  {
   "cell_type": "markdown",
   "metadata": {},
   "source": [
    "# Bonus exercises\n",
    "\n",
    "Choose one of the following:\n",
    "\n",
    "*1) Redo this analysis with emcee.*\n",
    "\n",
    "*2) Redo this analysis, in PyMC3, where you don't know, or don't trust, the uncertainties on the parallaxes.*\n",
    "\n",
    "*3) Reproduce the file \"parallaxes.csv\". How did I sample from the prior distribution?*"
   ]
  },
  {
   "cell_type": "code",
   "execution_count": null,
   "metadata": {},
   "outputs": [],
   "source": []
  }
 ],
 "metadata": {
  "kernelspec": {
   "display_name": "Python 3",
   "language": "python",
   "name": "python3"
  },
  "language_info": {
   "codemirror_mode": {
    "name": "ipython",
    "version": 3
   },
   "file_extension": ".py",
   "mimetype": "text/x-python",
   "name": "python",
   "nbconvert_exporter": "python",
   "pygments_lexer": "ipython3",
   "version": "3.7.1"
  }
 },
 "nbformat": 4,
 "nbformat_minor": 2
}
