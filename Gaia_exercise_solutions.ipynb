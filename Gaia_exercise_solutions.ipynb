{
 "cells": [
  {
   "cell_type": "markdown",
   "metadata": {},
   "source": [
    "# Inferring distances with Gaia data."
   ]
  },
  {
   "cell_type": "markdown",
   "metadata": {},
   "source": [
    "Your goal is to infer the distances to stars using Gaia parallaxes. Inverting the parallax will give you an inaccurate distance when the parallax uncertainty is large, so it is better to infer distance. There are two ways you could do this: 1) infer the distance using a sensible prior, as used in [Bailer-Jones et al. (2019)](https://arxiv.org/pdf/1804.10121.pdf), OR infer the prior using HBM.\n",
    "\n",
    "We're going to do both.\n",
    "\n",
    "First, lets open the data file, \"parallaxes.csv\"."
   ]
  },
  {
   "cell_type": "code",
   "execution_count": 19,
   "metadata": {},
   "outputs": [
    {
     "data": {
      "text/html": [
       "<div>\n",
       "<style scoped>\n",
       "    .dataframe tbody tr th:only-of-type {\n",
       "        vertical-align: middle;\n",
       "    }\n",
       "\n",
       "    .dataframe tbody tr th {\n",
       "        vertical-align: top;\n",
       "    }\n",
       "\n",
       "    .dataframe thead th {\n",
       "        text-align: right;\n",
       "    }\n",
       "</style>\n",
       "<table border=\"1\" class=\"dataframe\">\n",
       "  <thead>\n",
       "    <tr style=\"text-align: right;\">\n",
       "      <th></th>\n",
       "      <th>Unnamed: 0</th>\n",
       "      <th>parallax_mas</th>\n",
       "      <th>parallax_error</th>\n",
       "      <th>true_distance_kpc</th>\n",
       "    </tr>\n",
       "  </thead>\n",
       "  <tbody>\n",
       "    <tr>\n",
       "      <th>0</th>\n",
       "      <td>0</td>\n",
       "      <td>1.672053</td>\n",
       "      <td>0.018477</td>\n",
       "      <td>0.591963</td>\n",
       "    </tr>\n",
       "    <tr>\n",
       "      <th>1</th>\n",
       "      <td>1</td>\n",
       "      <td>0.375761</td>\n",
       "      <td>0.035355</td>\n",
       "      <td>2.457926</td>\n",
       "    </tr>\n",
       "    <tr>\n",
       "      <th>2</th>\n",
       "      <td>2</td>\n",
       "      <td>0.529537</td>\n",
       "      <td>0.038041</td>\n",
       "      <td>1.920681</td>\n",
       "    </tr>\n",
       "    <tr>\n",
       "      <th>3</th>\n",
       "      <td>3</td>\n",
       "      <td>1.104286</td>\n",
       "      <td>0.018510</td>\n",
       "      <td>0.901326</td>\n",
       "    </tr>\n",
       "    <tr>\n",
       "      <th>4</th>\n",
       "      <td>4</td>\n",
       "      <td>1.011174</td>\n",
       "      <td>0.021886</td>\n",
       "      <td>0.949794</td>\n",
       "    </tr>\n",
       "  </tbody>\n",
       "</table>\n",
       "</div>"
      ],
      "text/plain": [
       "   Unnamed: 0  parallax_mas  parallax_error  true_distance_kpc\n",
       "0           0      1.672053        0.018477           0.591963\n",
       "1           1      0.375761        0.035355           2.457926\n",
       "2           2      0.529537        0.038041           1.920681\n",
       "3           3      1.104286        0.018510           0.901326\n",
       "4           4      1.011174        0.021886           0.949794"
      ]
     },
     "execution_count": 19,
     "metadata": {},
     "output_type": "execute_result"
    }
   ],
   "source": [
    "import pandas as pd\n",
    "df = pd.read_csv(\"parallaxes.csv\")\n",
    "df = df[df.parallax_error > 0]\n",
    "df = df.iloc[:100]\n",
    "df.head()"
   ]
  },
  {
   "cell_type": "markdown",
   "metadata": {},
   "source": [
    "We could just calculate the distances using 1/parallax. \n",
    "\n",
    "*Plot true distance against 1./parallax.*"
   ]
  },
  {
   "cell_type": "code",
   "execution_count": 20,
   "metadata": {},
   "outputs": [
    {
     "data": {
      "text/plain": [
       "Text(0, 0.5, '1/parallax')"
      ]
     },
     "execution_count": 20,
     "metadata": {},
     "output_type": "execute_result"
    },
    {
     "data": {
      "image/png": "[encoded data removed]",
      "text/plain": [
       "<Figure size 432x288 with 1 Axes>"
      ]
     },
     "metadata": {
      "needs_background": "light"
     },
     "output_type": "display_data"
    }
   ],
   "source": [
    "import numpy as np\n",
    "import matplotlib.pyplot as plt\n",
    "%matplotlib inline\n",
    "\n",
    "rel_err = df.parallax_error/df.parallax_mas\n",
    "plt.errorbar(df.true_distance_kpc, 1./df.parallax_mas, yerr=rel_err, fmt=\".\")\n",
    "\n",
    "x = np.linspace(min(df.true_distance_kpc), max(df.true_distance_kpc), 100)\n",
    "plt.plot(x, x, zorder=10);\n",
    "\n",
    "plt.xlabel(\"True distance\")\n",
    "plt.ylabel(\"1/parallax\")"
   ]
  },
  {
   "cell_type": "markdown",
   "metadata": {},
   "source": [
    "Let's first try to infer distances using the [Bailer-Jones prior](https://arxiv.org/pdf/1804.10121.pdf)."
   ]
  },
  {
   "cell_type": "markdown",
   "metadata": {},
   "source": [
    "*Draw the non-hierarchical and hierarchical PGMs for this problem. In the hierarchical version, L will be a free parameter.*\n",
    "\n",
    "*Using PyMC3, infer the distance to each star with the non-hierarchical model.*"
   ]
  },
  {
   "cell_type": "code",
   "execution_count": 21,
   "metadata": {},
   "outputs": [
    {
     "name": "stderr",
     "output_type": "stream",
     "text": [
      "Auto-assigning NUTS sampler...\n",
      "Initializing NUTS using jitter+adapt_diag...\n",
      "Multiprocess sampling (4 chains in 4 jobs)\n",
      "NUTS: [D]\n",
      "Sampling 4 chains: 100%|██████████| 40000/40000 [00:15<00:00, 2638.92draws/s]\n"
     ]
    }
   ],
   "source": [
    "import pymc3 as pm\n",
    "\n",
    "L = 500\n",
    "logL = np.log(L)\n",
    "\n",
    "with pm.Model() as simple_model:\n",
    "        \n",
    "    # Prior over distance as a pymc3 potential object\n",
    "    D = pm.Uniform(\"D\", lower=0, upper=1000, shape=len(df),\n",
    "                   testval=np.array(1. / df.parallax_mas))\n",
    "    r = 1e3 / D\n",
    "    pm.Potential(\"lnprior\", -3*logL + 2*pm.math.log(r) - r/L)\n",
    "    \n",
    "    # The model\n",
    "    mu = 1. / D\n",
    "\n",
    "    # Likelihood\n",
    "    pm.Normal(\"parallax_obs\", mu=mu, sigma=np.array(df.parallax_error),\n",
    "              observed=np.array(df.parallax_mas))\n",
    "    \n",
    "    simple_trace = pm.sample(tune=5000, draws=5000)"
   ]
  },
  {
   "cell_type": "code",
   "execution_count": 9,
   "metadata": {},
   "outputs": [
    {
     "data": {
      "text/plain": [
       "Text(0, 0.5, 'Measured distance [kpc]')"
      ]
     },
     "execution_count": 9,
     "metadata": {},
     "output_type": "execute_result"
    },
    {
     "data": {
      "image/png": "[encoded data removed]",
      "text/plain": [
       "<Figure size 432x288 with 1 Axes>"
      ]
     },
     "metadata": {
      "needs_background": "light"
     },
     "output_type": "display_data"
    }
   ],
   "source": [
    "plt.errorbar(df.true_distance_kpc,\n",
    "             np.mean(simple_trace[\"D\"], axis=0),\n",
    "             yerr=np.std(simple_trace[\"D\"], axis=0), fmt=\".\");\n",
    "plt.xlabel(\"True distance [kpc]\")\n",
    "plt.ylabel(\"Measured distance [kpc]\")"
   ]
  },
  {
   "cell_type": "code",
   "execution_count": 17,
   "metadata": {},
   "outputs": [
    {
     "name": "stderr",
     "output_type": "stream",
     "text": [
      "Auto-assigning NUTS sampler...\n",
      "Initializing NUTS using jitter+adapt_diag...\n",
      "Multiprocess sampling (4 chains in 4 jobs)\n",
      "NUTS: [D, logL]\n",
      "Sampling 4 chains: 100%|██████████| 40000/40000 [00:16<00:00, 2467.43draws/s]\n"
     ]
    }
   ],
   "source": [
    "with pm.Model() as hierarchical_model:\n",
    "    \n",
    "    logL = pm.Normal(\"logL\", mu=np.log(500), sd=10)\n",
    "    L = pm.Deterministic(\"L\", pm.math.exp(logL))\n",
    "        \n",
    "    # Prior over distance as a pymc3 potential object\n",
    "    D = pm.Uniform(\"D\", lower=0, upper=1000, shape=len(df),\n",
    "                   testval=np.array(1. / df.parallax_mas))\n",
    "    r = 1e3 / D\n",
    "    pm.Potential(\n",
    "        \"lnprior\", -3*logL + 2*pm.math.log(r) - r/L)\n",
    "    \n",
    "    # The model\n",
    "    mu = 1. / D\n",
    "\n",
    "    # Likelihood\n",
    "    pm.Normal(\n",
    "        \"parallax_obs\", mu=mu, sigma=np.array(df.parallax_error),\n",
    "        observed=np.array(df.parallax_mas))\n",
    "    \n",
    "    hierarchical_trace = pm.sample(tune=5000, draws=5000)"
   ]
  },
  {
   "cell_type": "code",
   "execution_count": 18,
   "metadata": {},
   "outputs": [
    {
     "data": {
      "image/png": "[encoded data removed]",
      "text/plain": [
       "<Figure size 432x288 with 1 Axes>"
      ]
     },
     "metadata": {
      "needs_background": "light"
     },
     "output_type": "display_data"
    }
   ],
   "source": [
    "plt.hist(hierarchical_trace[\"L\"], 50, histtype=\"step\");"
   ]
  },
  {
   "cell_type": "markdown",
   "metadata": {},
   "source": [
    "# Bonus exercises\n",
    "\n",
    "Choose one of the following:\n",
    "\n",
    "*1) Redo this analysis with emcee.*\n",
    "\n",
    "*2) Redo this analysis, in PyMC3, where you don't know, or don't trust, the uncertainties on the parallaxes.*\n",
    "\n",
    "*3) Reproduce the file \"parallaxes.csv\". How did I sample from the prior distribution?*"
   ]
  },
  {
   "cell_type": "code",
   "execution_count": null,
   "metadata": {},
   "outputs": [],
   "source": [
    "def lnprob(r_kpc, parallax_mas, parallax_mas_error):\n",
    "    lnlike = -.5*np.sum((1./r_kpc - parallax_mas)**2/parallax_mas_error**2)\n",
    "    \n",
    "    if r_kpc > 0:\n",
    "        lnprior = log_bj_prior(r_kpc, 500)\n",
    "    else:\n",
    "        lnprior = -np.inf\n",
    "    return lnlike + lnprior\n",
    "\n",
    "print(lnprob(1, 1, .1))\n",
    "print(lnprob(1, 5, .1))\n",
    "print(lnprob(5, 1./5, .001))\n",
    "print(lnprob(5, 10, .001))\n",
    "\n",
    "import emcee\n",
    "import corner\n",
    "\n",
    "ndim, nwalkers = 1, 100\n",
    "p0 = [np.random.rand(ndim) for i in range(nwalkers)]\n",
    "sampler = emcee.EnsembleSampler(nwalkers, ndim, lnprob, args=[df.parallax_mas[0], df.parallax_error[0]])\n",
    "sampler.run_mcmc(p0, 1000, progress=True);\n",
    "\n",
    "samples = sampler.chain[:, 50:, :].reshape((-1, ndim))\n",
    "print(\"true = \", df.true_distance_kpc[0])\n",
    "print(\"inferred = \", np.median(samples, axis=0))"
   ]
  }
 ],
 "metadata": {
  "kernelspec": {
   "display_name": "Python 3",
   "language": "python",
   "name": "python3"
  },
  "language_info": {
   "codemirror_mode": {
    "name": "ipython",
    "version": 3
   },
   "file_extension": ".py",
   "mimetype": "text/x-python",
   "name": "python",
   "nbconvert_exporter": "python",
   "pygments_lexer": "ipython3",
   "version": "3.7.1"
  }
 },
 "nbformat": 4,
 "nbformat_minor": 2
}
